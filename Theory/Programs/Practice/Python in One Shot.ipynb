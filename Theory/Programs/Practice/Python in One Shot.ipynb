{
 "cells": [
  {
   "cell_type": "code",
   "execution_count": 19,
   "id": "30010bd2",
   "metadata": {},
   "outputs": [
    {
     "name": "stdout",
     "output_type": "stream",
     "text": [
      "Hello world\n",
      "15\n",
      "Syntax of if else\n"
     ]
    }
   ],
   "source": [
    "#This is comment\n",
    "# Note in python indentation is very important\n",
    "print(\"Hello world\")\n",
    "print(8+7)\n",
    "print(\"Syntax of if else\")\n",
    "# if():\n",
    "# elif():\n",
    "# else:"
   ]
  },
  {
   "cell_type": "code",
   "execution_count": 6,
   "id": "fcb6c58d",
   "metadata": {},
   "outputs": [
    {
     "name": "stdout",
     "output_type": "stream",
     "text": [
      "6.0\n"
     ]
    }
   ],
   "source": [
    "import math\n",
    "print(math.sqrt(36))"
   ]
  },
  {
   "cell_type": "code",
   "execution_count": 13,
   "id": "daf271eb",
   "metadata": {},
   "outputs": [
    {
     "name": "stdout",
     "output_type": "stream",
     "text": [
      "<class 'int'>\n",
      "22\n",
      "18\n",
      "18.0\n"
     ]
    }
   ],
   "source": [
    "# Variables\n",
    "a=13\n",
    "b=\"15\"\n",
    "print(type(a))\n",
    "print(int(b)+7)\n",
    "# Type casting\n",
    "a=\"18\"\n",
    "print(int(a))\n",
    "print(float(a))"
   ]
  },
  {
   "cell_type": "code",
   "execution_count": 8,
   "id": "9c1bdcc1",
   "metadata": {},
   "outputs": [
    {
     "name": "stdout",
     "output_type": "stream",
     "text": [
      "alok mathur\n",
      "alo\n",
      "['alok', 'mathur']\n",
      "11\n",
      "This is a alok mathur and he is friends with anna\n"
     ]
    }
   ],
   "source": [
    "# STRINGS\n",
    "\n",
    "name=\"alok mathur\"\n",
    "name_space=\"    alok  \"\n",
    "# To remove extra/excess space we use strip() function\n",
    "print(name.strip())\n",
    "\n",
    "# For string slicing \n",
    "print(name[:3])\n",
    "\n",
    "# For spliting of string :- It returns an list \n",
    "print(name.split())\n",
    "\n",
    "# For length of string\n",
    "print(len(name))\n",
    "\n",
    "# Format of a string\n",
    "name1=\"anna\"\n",
    "temp=\"This is a {} and he is friends with {}\".format(name,name1)\n",
    "print(temp)"
   ]
  },
  {
   "cell_type": "code",
   "execution_count": 16,
   "id": "95f63f7b",
   "metadata": {},
   "outputs": [
    {
     "name": "stdout",
     "output_type": "stream",
     "text": [
      "[8, 7, 4, 4, 68, 98]\n",
      "6\n",
      "[8, 7, 4, 4, 68, 98, 15]\n",
      "[8, 7, 4, 4, 68, 98]\n",
      "[0, 1, 2, 3, 4]\n"
     ]
    }
   ],
   "source": [
    "# Lists in Python \n",
    "lst=[8,7,4,4,68,98]\n",
    "print(lst)\n",
    "\n",
    "# Length of list\n",
    "print(len(lst))\n",
    "\n",
    "# To append an item in list\n",
    "lst.append(15)\n",
    "print(lst)\n",
    "\n",
    "# lst.pop() will pop the last element from the list\n",
    "lst.pop()\n",
    "print(lst)\n",
    "\n",
    "l=[]\n",
    "for i in range(0,5):\n",
    "    l.append(i)\n",
    "print(l)"
   ]
  },
  {
   "cell_type": "code",
   "execution_count": 14,
   "id": "f853f160",
   "metadata": {},
   "outputs": [],
   "source": [
    "# Tuples in python\n",
    "# 1.These are immutables\n"
   ]
  },
  {
   "cell_type": "code",
   "execution_count": 18,
   "id": "998abf6e",
   "metadata": {},
   "outputs": [
    {
     "name": "stdout",
     "output_type": "stream",
     "text": [
      "{'alok': 9.56, 'prasoon': 9.2, 'vishnu': 9.33, 'rishi': 8.4}\n",
      "9.56\n"
     ]
    }
   ],
   "source": [
    "# Dictionaries\n",
    "d={\"alok\":9.56,\"prasoon\":9.2,\"vishnu\":9.33,\"rishi\":8.4}\n",
    "print(d)\n",
    "print(d[\"alok\"])\n"
   ]
  },
  {
   "cell_type": "code",
   "execution_count": null,
   "id": "4b061d9f",
   "metadata": {},
   "outputs": [],
   "source": []
  }
 ],
 "metadata": {
  "kernelspec": {
   "display_name": "Python 3 (ipykernel)",
   "language": "python",
   "name": "python3"
  },
  "language_info": {
   "codemirror_mode": {
    "name": "ipython",
    "version": 3
   },
   "file_extension": ".py",
   "mimetype": "text/x-python",
   "name": "python",
   "nbconvert_exporter": "python",
   "pygments_lexer": "ipython3",
   "version": "3.8.10"
  }
 },
 "nbformat": 4,
 "nbformat_minor": 5
}

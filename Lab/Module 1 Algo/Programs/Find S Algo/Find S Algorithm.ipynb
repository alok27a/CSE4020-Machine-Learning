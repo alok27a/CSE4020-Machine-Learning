{
 "cells": [
  {
   "cell_type": "markdown",
   "id": "4c136ca5",
   "metadata": {},
   "source": [
    "# Find S Algorithm"
   ]
  },
  {
   "cell_type": "code",
   "execution_count": 1,
   "id": "0bb99ed0",
   "metadata": {},
   "outputs": [],
   "source": [
    "import numpy as np\n",
    "import pandas as pd"
   ]
  },
  {
   "cell_type": "code",
   "execution_count": 2,
   "id": "d734ad38",
   "metadata": {},
   "outputs": [],
   "source": [
    "def training(d,target):\n",
    "    for i in range(0,len(target)):\n",
    "        if(target[i]==\"Yes\"):\n",
    "            h1=d[i]\n",
    "            break\n",
    "            \n",
    "    for i in range(0,len(target)):\n",
    "        if(target[i]==\"Yes\"):\n",
    "            for j in range(0,len(d[0])):\n",
    "                if(d[i][j]!=h1[j]):\n",
    "                    h1[j]=\"?\"\n",
    "                else:\n",
    "                    continue\n",
    "        print(\"The value of specific hypothesis for the data set number\",i+1,\" is: \",h1)\n",
    "        print()\n",
    "    print(\"The best hypothesis is: \",h1)"
   ]
  },
  {
   "cell_type": "code",
   "execution_count": 3,
   "id": "6fefdc7c",
   "metadata": {},
   "outputs": [],
   "source": [
    "df=pd.read_csv('data.csv')"
   ]
  },
  {
   "cell_type": "code",
   "execution_count": 4,
   "id": "8423f16a",
   "metadata": {},
   "outputs": [
    {
     "name": "stdout",
     "output_type": "stream",
     "text": [
      "The dataframe is :\n"
     ]
    },
    {
     "data": {
      "text/html": [
       "<div>\n",
       "<style scoped>\n",
       "    .dataframe tbody tr th:only-of-type {\n",
       "        vertical-align: middle;\n",
       "    }\n",
       "\n",
       "    .dataframe tbody tr th {\n",
       "        vertical-align: top;\n",
       "    }\n",
       "\n",
       "    .dataframe thead th {\n",
       "        text-align: right;\n",
       "    }\n",
       "</style>\n",
       "<table border=\"1\" class=\"dataframe\">\n",
       "  <thead>\n",
       "    <tr style=\"text-align: right;\">\n",
       "      <th></th>\n",
       "      <th>Time</th>\n",
       "      <th>Weather</th>\n",
       "      <th>Temperature</th>\n",
       "      <th>Company</th>\n",
       "      <th>Humidity</th>\n",
       "      <th>Wind</th>\n",
       "      <th>Goes</th>\n",
       "    </tr>\n",
       "  </thead>\n",
       "  <tbody>\n",
       "    <tr>\n",
       "      <th>0</th>\n",
       "      <td>Morning</td>\n",
       "      <td>Sunny</td>\n",
       "      <td>Warm</td>\n",
       "      <td>Yes</td>\n",
       "      <td>Mild</td>\n",
       "      <td>Strong</td>\n",
       "      <td>Yes</td>\n",
       "    </tr>\n",
       "    <tr>\n",
       "      <th>1</th>\n",
       "      <td>Evening</td>\n",
       "      <td>Rainy</td>\n",
       "      <td>Cold</td>\n",
       "      <td>No</td>\n",
       "      <td>Mild</td>\n",
       "      <td>Normal</td>\n",
       "      <td>No</td>\n",
       "    </tr>\n",
       "    <tr>\n",
       "      <th>2</th>\n",
       "      <td>Morning</td>\n",
       "      <td>Sunny</td>\n",
       "      <td>Moderate</td>\n",
       "      <td>Yes</td>\n",
       "      <td>Normal</td>\n",
       "      <td>Normal</td>\n",
       "      <td>Yes</td>\n",
       "    </tr>\n",
       "    <tr>\n",
       "      <th>3</th>\n",
       "      <td>Evening</td>\n",
       "      <td>Sunny</td>\n",
       "      <td>Cold</td>\n",
       "      <td>Yes</td>\n",
       "      <td>High</td>\n",
       "      <td>Strong</td>\n",
       "      <td>Yes</td>\n",
       "    </tr>\n",
       "  </tbody>\n",
       "</table>\n",
       "</div>"
      ],
      "text/plain": [
       "      Time Weather Temperature Company Humidity    Wind Goes\n",
       "0  Morning   Sunny        Warm     Yes     Mild  Strong  Yes\n",
       "1  Evening   Rainy        Cold      No     Mild  Normal   No\n",
       "2  Morning   Sunny    Moderate     Yes   Normal  Normal  Yes\n",
       "3  Evening   Sunny        Cold     Yes     High  Strong  Yes"
      ]
     },
     "execution_count": 4,
     "metadata": {},
     "output_type": "execute_result"
    }
   ],
   "source": [
    "print(\"The dataframe is :\")\n",
    "df"
   ]
  },
  {
   "cell_type": "code",
   "execution_count": 5,
   "id": "0154eeb6",
   "metadata": {},
   "outputs": [
    {
     "name": "stdout",
     "output_type": "stream",
     "text": [
      "The attributes are :\n",
      " [['Morning' 'Sunny' 'Warm' 'Yes' 'Mild' 'Strong']\n",
      " ['Evening' 'Rainy' 'Cold' 'No' 'Mild' 'Normal']\n",
      " ['Morning' 'Sunny' 'Moderate' 'Yes' 'Normal' 'Normal']\n",
      " ['Evening' 'Sunny' 'Cold' 'Yes' 'High' 'Strong']]\n"
     ]
    }
   ],
   "source": [
    "d=np.array(df)[:,:-1]\n",
    "print(\"The attributes are :\\n\",d)"
   ]
  },
  {
   "cell_type": "code",
   "execution_count": 6,
   "id": "6c4a95a5",
   "metadata": {},
   "outputs": [
    {
     "name": "stdout",
     "output_type": "stream",
     "text": [
      "The target concepts is :  ['Yes' 'No' 'Yes' 'Yes']\n"
     ]
    }
   ],
   "source": [
    "target=np.array(df)[:,-1]\n",
    "print(\"The target concepts is : \",target)"
   ]
  },
  {
   "cell_type": "code",
   "execution_count": 7,
   "id": "1ea73304",
   "metadata": {},
   "outputs": [
    {
     "name": "stdout",
     "output_type": "stream",
     "text": [
      "The value of specific hypothesis for the data set number 1  is:  ['Morning' 'Sunny' 'Warm' 'Yes' 'Mild' 'Strong']\n",
      "\n",
      "The value of specific hypothesis for the data set number 2  is:  ['Morning' 'Sunny' 'Warm' 'Yes' 'Mild' 'Strong']\n",
      "\n",
      "The value of specific hypothesis for the data set number 3  is:  ['Morning' 'Sunny' '?' 'Yes' '?' '?']\n",
      "\n",
      "The value of specific hypothesis for the data set number 4  is:  ['?' 'Sunny' '?' 'Yes' '?' '?']\n",
      "\n",
      "The best hypothesis is:  ['?' 'Sunny' '?' 'Yes' '?' '?']\n"
     ]
    }
   ],
   "source": [
    "training(d,target)"
   ]
  }
 ],
 "metadata": {
  "kernelspec": {
   "display_name": "Python 3 (ipykernel)",
   "language": "python",
   "name": "python3"
  },
  "language_info": {
   "codemirror_mode": {
    "name": "ipython",
    "version": 3
   },
   "file_extension": ".py",
   "mimetype": "text/x-python",
   "name": "python",
   "nbconvert_exporter": "python",
   "pygments_lexer": "ipython3",
   "version": "3.8.10"
  }
 },
 "nbformat": 4,
 "nbformat_minor": 5
}

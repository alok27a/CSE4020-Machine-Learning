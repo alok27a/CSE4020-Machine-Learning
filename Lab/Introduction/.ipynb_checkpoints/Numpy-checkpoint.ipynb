{
 "cells": [
  {
   "cell_type": "markdown",
   "id": "c3c165bc",
   "metadata": {},
   "source": [
    "## Numpy Basics"
   ]
  },
  {
   "cell_type": "code",
   "execution_count": 1,
   "id": "bcb32a41",
   "metadata": {},
   "outputs": [],
   "source": [
    "import numpy as np"
   ]
  },
  {
   "cell_type": "code",
   "execution_count": 2,
   "id": "b467ef26",
   "metadata": {},
   "outputs": [],
   "source": [
    "myarr=np.array([[5,8,3,7]],np.int32)"
   ]
  },
  {
   "cell_type": "code",
   "execution_count": 5,
   "id": "56835a5a",
   "metadata": {},
   "outputs": [
    {
     "name": "stdout",
     "output_type": "stream",
     "text": [
      "[[5 8 3 7]]\n"
     ]
    }
   ],
   "source": [
    "print(myarr)"
   ]
  },
  {
   "cell_type": "markdown",
   "id": "b49ff5be",
   "metadata": {},
   "source": [
    "# Array creation : Conversion from other python structures"
   ]
  },
  {
   "cell_type": "code",
   "execution_count": 6,
   "id": "2ef039d1",
   "metadata": {},
   "outputs": [],
   "source": [
    "lstarray=np.array([[1,8,14,10],[7,9,8,55],[16,69,74,11]],np.int64)"
   ]
  },
  {
   "cell_type": "code",
   "execution_count": 7,
   "id": "08b3d6f2",
   "metadata": {},
   "outputs": [
    {
     "data": {
      "text/plain": [
       "array([[ 1,  8, 14, 10],\n",
       "       [ 7,  9,  8, 55],\n",
       "       [16, 69, 74, 11]], dtype=int64)"
      ]
     },
     "execution_count": 7,
     "metadata": {},
     "output_type": "execute_result"
    }
   ],
   "source": [
    "lstarray"
   ]
  },
  {
   "cell_type": "code",
   "execution_count": 9,
   "id": "4ebd3345",
   "metadata": {},
   "outputs": [
    {
     "data": {
      "text/plain": [
       "(3, 4)"
      ]
     },
     "execution_count": 9,
     "metadata": {},
     "output_type": "execute_result"
    }
   ],
   "source": [
    "# Number of rows and column\n",
    "lstarray.shape"
   ]
  },
  {
   "cell_type": "code",
   "execution_count": 10,
   "id": "8ca65cf5",
   "metadata": {},
   "outputs": [
    {
     "data": {
      "text/plain": [
       "12"
      ]
     },
     "execution_count": 10,
     "metadata": {},
     "output_type": "execute_result"
    }
   ],
   "source": [
    "lstarray.size"
   ]
  },
  {
   "cell_type": "code",
   "execution_count": 11,
   "id": "57e097b8",
   "metadata": {},
   "outputs": [
    {
     "data": {
      "text/plain": [
       "dtype('int64')"
      ]
     },
     "execution_count": 11,
     "metadata": {},
     "output_type": "execute_result"
    }
   ],
   "source": [
    "# The data type of elements \n",
    "lstarray.dtype"
   ]
  },
  {
   "cell_type": "code",
   "execution_count": 14,
   "id": "249e60ef",
   "metadata": {},
   "outputs": [
    {
     "data": {
      "text/plain": [
       "array([[0., 0., 0., 0.],\n",
       "       [0., 0., 0., 0.],\n",
       "       [0., 0., 0., 0.]])"
      ]
     },
     "execution_count": 14,
     "metadata": {},
     "output_type": "execute_result"
    }
   ],
   "source": [
    "# Array of size m X n with elements 0s\n",
    "zeroes=np.zeros((3,4))\n",
    "zeroes"
   ]
  },
  {
   "cell_type": "code",
   "execution_count": 16,
   "id": "f58b9b50",
   "metadata": {},
   "outputs": [
    {
     "name": "stdout",
     "output_type": "stream",
     "text": [
      "[0 1 2 3 4 5 6 7 8 9]\n"
     ]
    }
   ],
   "source": [
    "rnp=np.arange(0,10)\n",
    "print(rnp)"
   ]
  },
  {
   "cell_type": "code",
   "execution_count": 27,
   "id": "d6d371fa",
   "metadata": {},
   "outputs": [
    {
     "data": {
      "text/plain": [
       "array([[1., 0., 0.],\n",
       "       [0., 1., 0.],\n",
       "       [0., 0., 1.]])"
      ]
     },
     "execution_count": 27,
     "metadata": {},
     "output_type": "execute_result"
    }
   ],
   "source": [
    "# Array of size m X n as identity matrix\n",
    "identity_matrix=np.identity(3)\n",
    "identity_matrix"
   ]
  },
  {
   "cell_type": "code",
   "execution_count": 29,
   "id": "ac6ca923",
   "metadata": {},
   "outputs": [
    {
     "data": {
      "text/plain": [
       "array([[69, 69, 69, 69],\n",
       "       [69, 69, 69, 69],\n",
       "       [69, 69, 69, 69]])"
      ]
     },
     "execution_count": 29,
     "metadata": {},
     "output_type": "execute_result"
    }
   ],
   "source": [
    "# Intialise numpy array with same element\n",
    "n1=np.full((3,4),69)\n",
    "n1"
   ]
  },
  {
   "cell_type": "markdown",
   "id": "3e8e27bb",
   "metadata": {},
   "source": [
    "# Joining Numpy arrays"
   ]
  },
  {
   "cell_type": "markdown",
   "id": "1ffcde79",
   "metadata": {},
   "source": [
    "vstack() , hstack() , column_stack()"
   ]
  },
  {
   "cell_type": "code",
   "execution_count": 35,
   "id": "6186d170",
   "metadata": {},
   "outputs": [],
   "source": [
    "v1=np.array([8,1,5])\n",
    "v2=np.array([1,2,3])"
   ]
  },
  {
   "cell_type": "code",
   "execution_count": 34,
   "id": "354d0d11",
   "metadata": {},
   "outputs": [
    {
     "data": {
      "text/plain": [
       "array([[8, 1, 5],\n",
       "       [1, 2, 3]])"
      ]
     },
     "execution_count": 34,
     "metadata": {},
     "output_type": "execute_result"
    }
   ],
   "source": [
    "np.vstack((v1,v2))"
   ]
  },
  {
   "cell_type": "code",
   "execution_count": 36,
   "id": "e468380c",
   "metadata": {},
   "outputs": [
    {
     "data": {
      "text/plain": [
       "array([8, 1, 5, 1, 2, 3])"
      ]
     },
     "execution_count": 36,
     "metadata": {},
     "output_type": "execute_result"
    }
   ],
   "source": [
    "np.hstack((v1,v2))"
   ]
  },
  {
   "cell_type": "markdown",
   "id": "1a325bf7",
   "metadata": {},
   "source": [
    "# Axis in Numpy"
   ]
  },
  {
   "cell_type": "markdown",
   "id": "8e131a95",
   "metadata": {},
   "source": [
    "A axis in numpy is for arrays.\n",
    "A 1D array has 1 Axis,\n",
    "A 2D array has 2 Axis { Axis0 --> Along the rows , Axis1 --> Along the columns }"
   ]
  },
  {
   "cell_type": "code",
   "execution_count": 21,
   "id": "3d55cf4c",
   "metadata": {},
   "outputs": [
    {
     "data": {
      "text/plain": [
       "array([[1, 2, 3],\n",
       "       [4, 5, 6],\n",
       "       [7, 1, 0]])"
      ]
     },
     "execution_count": 21,
     "metadata": {},
     "output_type": "execute_result"
    }
   ],
   "source": [
    "ar=[[1,2,3],[4,5,6],[7,1,0]]\n",
    "ar=np.array(ar)\n",
    "ar"
   ]
  },
  {
   "cell_type": "code",
   "execution_count": 22,
   "id": "6abc92c1",
   "metadata": {},
   "outputs": [
    {
     "data": {
      "text/plain": [
       "array([12,  8,  9])"
      ]
     },
     "execution_count": 22,
     "metadata": {},
     "output_type": "execute_result"
    }
   ],
   "source": [
    "ar.sum(axis=0)"
   ]
  },
  {
   "cell_type": "markdown",
   "id": "87be35af",
   "metadata": {},
   "source": [
    "# Basic operation on numpy arrays"
   ]
  },
  {
   "cell_type": "code",
   "execution_count": 44,
   "id": "9eb60a18",
   "metadata": {},
   "outputs": [],
   "source": [
    "n1=np.array([1,4,5])\n",
    "n2=np.array([8,5,1])"
   ]
  },
  {
   "cell_type": "code",
   "execution_count": 43,
   "id": "6b1a79d8",
   "metadata": {},
   "outputs": [
    {
     "data": {
      "text/plain": [
       "array([9, 9, 6])"
      ]
     },
     "execution_count": 43,
     "metadata": {},
     "output_type": "execute_result"
    }
   ],
   "source": [
    "n1+n2"
   ]
  },
  {
   "cell_type": "code",
   "execution_count": 45,
   "id": "8fa568e1",
   "metadata": {},
   "outputs": [
    {
     "data": {
      "text/plain": [
       "array([-7, -1,  4])"
      ]
     },
     "execution_count": 45,
     "metadata": {},
     "output_type": "execute_result"
    }
   ],
   "source": [
    "n1-n2"
   ]
  },
  {
   "cell_type": "code",
   "execution_count": 46,
   "id": "92d65b36",
   "metadata": {},
   "outputs": [
    {
     "data": {
      "text/plain": [
       "array([9, 9, 6])"
      ]
     },
     "execution_count": 46,
     "metadata": {},
     "output_type": "execute_result"
    }
   ],
   "source": [
    "np.sum((n1,n2),axis=0)"
   ]
  },
  {
   "cell_type": "code",
   "execution_count": 47,
   "id": "77acfb37",
   "metadata": {},
   "outputs": [
    {
     "data": {
      "text/plain": [
       "array([10, 14])"
      ]
     },
     "execution_count": 47,
     "metadata": {},
     "output_type": "execute_result"
    }
   ],
   "source": [
    "np.sum((n1,n2),axis=1)"
   ]
  },
  {
   "cell_type": "markdown",
   "id": "c2d06ccc",
   "metadata": {},
   "source": [
    "# Attributes and Functions in Numpy"
   ]
  },
  {
   "cell_type": "code",
   "execution_count": 23,
   "id": "e73fbefe",
   "metadata": {},
   "outputs": [
    {
     "data": {
      "text/plain": [
       "array([[1, 4, 7],\n",
       "       [2, 5, 1],\n",
       "       [3, 6, 0]])"
      ]
     },
     "execution_count": 23,
     "metadata": {},
     "output_type": "execute_result"
    }
   ],
   "source": [
    "# Transpose of array\n",
    "ar.T"
   ]
  },
  {
   "cell_type": "code",
   "execution_count": 24,
   "id": "5f973bb9",
   "metadata": {},
   "outputs": [
    {
     "name": "stdout",
     "output_type": "stream",
     "text": [
      "1\n",
      "2\n",
      "3\n",
      "4\n",
      "5\n",
      "6\n",
      "7\n",
      "1\n",
      "0\n"
     ]
    }
   ],
   "source": [
    "for i in ar.flat:\n",
    "    print(i)"
   ]
  },
  {
   "cell_type": "code",
   "execution_count": 25,
   "id": "3ab2591c",
   "metadata": {},
   "outputs": [
    {
     "data": {
      "text/plain": [
       "2"
      ]
     },
     "execution_count": 25,
     "metadata": {},
     "output_type": "execute_result"
    }
   ],
   "source": [
    "# Dimensions of array\n",
    "ar.ndim"
   ]
  },
  {
   "cell_type": "code",
   "execution_count": 26,
   "id": "1616ae70",
   "metadata": {},
   "outputs": [
    {
     "data": {
      "text/plain": [
       "9"
      ]
     },
     "execution_count": 26,
     "metadata": {},
     "output_type": "execute_result"
    }
   ],
   "source": [
    "# Size of the array\n",
    "ar.size"
   ]
  }
 ],
 "metadata": {
  "kernelspec": {
   "display_name": "Python 3 (ipykernel)",
   "language": "python",
   "name": "python3"
  },
  "language_info": {
   "codemirror_mode": {
    "name": "ipython",
    "version": 3
   },
   "file_extension": ".py",
   "mimetype": "text/x-python",
   "name": "python",
   "nbconvert_exporter": "python",
   "pygments_lexer": "ipython3",
   "version": "3.8.10"
  }
 },
 "nbformat": 4,
 "nbformat_minor": 5
}
